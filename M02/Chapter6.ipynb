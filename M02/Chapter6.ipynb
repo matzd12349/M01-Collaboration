{
 "cells": [
  {
   "cell_type": "code",
   "execution_count": null,
   "id": "f1ec23fb-8e3f-4ae3-b64c-b02efd32c714",
   "metadata": {},
   "outputs": [],
   "source": [
    "#6.1\n",
    "#set a for loop to print the values of the list [3, 2, 1, 0]"
   ]
  },
  {
   "cell_type": "code",
   "execution_count": 4,
   "id": "4cf8b5b7-54bd-4fe6-8dc8-9013c4b47194",
   "metadata": {},
   "outputs": [
    {
     "name": "stdout",
     "output_type": "stream",
     "text": [
      "3\n",
      "2\n",
      "1\n",
      "0\n"
     ]
    }
   ],
   "source": [
    "numList: int = [3,2,1,0]\n",
    "\n",
    "for c in numList:\n",
    "    print(c)"
   ]
  },
  {
   "cell_type": "code",
   "execution_count": null,
   "id": "f5aede25-32f4-4fba-b89c-4aaa85da0e1f",
   "metadata": {},
   "outputs": [],
   "source": [
    "#6.2\n",
    "#Assign the value 7 to the variable guess_me, and the value 1 to the variable number.\n",
    "#Write a while loop that compares number with guess_me.\n",
    "#Print 'too low' if number is less than guess me.\n",
    "#If number equals guess_me, print 'found it!' and then exit the loop. \n",
    "#If number is greater than guess_me, print 'oops' and then exit the loop.\n",
    "#Increment number at the end of the loop."
   ]
  },
  {
   "cell_type": "code",
   "execution_count": 6,
   "id": "350d6786-4225-4176-9701-a828c28b8a4d",
   "metadata": {},
   "outputs": [
    {
     "name": "stdout",
     "output_type": "stream",
     "text": [
      "too low\n",
      "too low\n",
      "too low\n",
      "too low\n",
      "too low\n",
      "too low\n",
      "found it!\n"
     ]
    }
   ],
   "source": [
    "guess_me: int = 7\n",
    "number: int = 1\n",
    "\n",
    "while number <= guess_me:\n",
    "    if number < guess_me:\n",
    "        print('too low')\n",
    "    elif number == guess_me:\n",
    "        print('found it!')\n",
    "        break\n",
    "    elif number > guess_me:\n",
    "        print('oops')\n",
    "        break\n",
    "    number += 1"
   ]
  },
  {
   "cell_type": "code",
   "execution_count": null,
   "id": "139f327b-4497-4e6e-b7c7-a094bf184618",
   "metadata": {},
   "outputs": [],
   "source": [
    "#6.3\n",
    "#Assign the value 5 to the variable guess_me.\n",
    "#Use a for loop to iterate a variable called number over range(10). \n",
    "#If number is less than guess_me, print 'too low'.\n",
    "#If it equals guess_me, print found it! and then break out of the for loop.\n",
    "#If number is greater than guess_me, print 'oops' and then exit the loop."
   ]
  },
  {
   "cell_type": "code",
   "execution_count": 7,
   "id": "49418ffe-b96c-4525-b618-d41731f78c95",
   "metadata": {},
   "outputs": [
    {
     "name": "stdout",
     "output_type": "stream",
     "text": [
      "too low\n",
      "too low\n",
      "too low\n",
      "too low\n",
      "too low\n",
      "found it!\n"
     ]
    }
   ],
   "source": [
    "guess_me = 5\n",
    "\n",
    "for number in range(10):\n",
    "    if number < guess_me:\n",
    "        print('too low')\n",
    "    elif number == guess_me:\n",
    "        print('found it!')\n",
    "        break\n",
    "    else:  # number > guess_me\n",
    "        print('oops')\n",
    "        break"
   ]
  },
  {
   "cell_type": "code",
   "execution_count": null,
   "id": "920d6f04-9d68-4d87-856b-e02c8bf2c5c1",
   "metadata": {},
   "outputs": [],
   "source": []
  }
 ],
 "metadata": {
  "kernelspec": {
   "display_name": "Python 3 (ipykernel)",
   "language": "python",
   "name": "python3"
  },
  "language_info": {
   "codemirror_mode": {
    "name": "ipython",
    "version": 3
   },
   "file_extension": ".py",
   "mimetype": "text/x-python",
   "name": "python",
   "nbconvert_exporter": "python",
   "pygments_lexer": "ipython3",
   "version": "3.11.7"
  }
 },
 "nbformat": 4,
 "nbformat_minor": 5
}
