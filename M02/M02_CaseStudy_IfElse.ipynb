{
 "cells": [
  {
   "cell_type": "code",
   "execution_count": null,
   "id": "8cdee56b-5579-4b37-9111-df90850002cc",
   "metadata": {},
   "outputs": [],
   "source": [
    "#Habits\n",
    "#   Always declare data and return types\n",
    "#   Overthinking,\n",
    "#I hate:\n",
    "#   That Void in python is None\n",
    "#   That there is no switch/match option in python\n",
    "#   That I cannot just exit() without import, I have to 'raise SystemExit'\n",
    "#Learning:\n",
    "#   How to use print(f'') for formatting and better readability\n",
    "#   Using dictionary data types\n",
    "#   changing naming habits to correspond to standards"
   ]
  },
  {
   "cell_type": "code",
   "execution_count": null,
   "id": "4e7cdd72-d1c7-4d63-a2d2-2f7b72e59f67",
   "metadata": {},
   "outputs": [
    {
     "name": "stdin",
     "output_type": "stream",
     "text": [
      "Enter the student's last name (or 'ZZZ' to quit):  David\n",
      "Enter the student's first name:  Matz\n",
      "Enter the students's GPA:  2.9\n"
     ]
    },
    {
     "name": "stdout",
     "output_type": "stream",
     "text": [
      "Matz David did not qualify for the Dean's or Honor Roll\n"
     ]
    },
    {
     "name": "stdin",
     "output_type": "stream",
     "text": [
      "Enter the student's last name (or 'ZZZ' to quit):  Sarah\n",
      "Enter the student's first name:  Huckingham\n",
      "Enter the students's GPA:  4.0\n"
     ]
    },
    {
     "name": "stdout",
     "output_type": "stream",
     "text": [
      "Huckingham Sarah has made the Dean's List.\n"
     ]
    },
    {
     "name": "stdin",
     "output_type": "stream",
     "text": [
      "Enter the student's last name (or 'ZZZ' to quit):  Ted\n",
      "Enter the student's first name:  Bundy\n",
      "Enter the students's GPA:  3.3\n"
     ]
    },
    {
     "name": "stdout",
     "output_type": "stream",
     "text": [
      "Bundy Ted has made the Honor Role.\n"
     ]
    },
    {
     "name": "stdin",
     "output_type": "stream",
     "text": [
      "Enter the student's last name (or 'ZZZ' to quit):  Carington\n",
      "Enter the student's first name:  Hoppy\n",
      "Enter the students's GPA:  dooplessnooples\n"
     ]
    },
    {
     "name": "stdout",
     "output_type": "stream",
     "text": [
      "Invalid input. Try again.\n"
     ]
    },
    {
     "name": "stdin",
     "output_type": "stream",
     "text": [
      "Enter the student's last name (or 'ZZZ' to quit):  Carinton\n",
      "Enter the student's first name:  Hoppy\n",
      "Enter the students's GPA:  3.5\n"
     ]
    },
    {
     "name": "stdout",
     "output_type": "stream",
     "text": [
      "Hoppy Carinton has made the Dean's List.\n"
     ]
    },
    {
     "name": "stdin",
     "output_type": "stream",
     "text": [
      "Enter the student's last name (or 'ZZZ' to quit):  Pickles\n",
      "Enter the student's first name:  Jar\n",
      "Enter the students's GPA:  3.4\n"
     ]
    },
    {
     "name": "stdout",
     "output_type": "stream",
     "text": [
      "Jar Pickles has made the Honor Role.\n"
     ]
    }
   ],
   "source": [
    "# Author: David A Matz\n",
    "#File Name: M02_CaseStudy_IfElse\n",
    "#Description:\n",
    "#   This app accepsts student names and GPA's, \n",
    "#   and checks if the student qualifies for either\n",
    "#   the Dean's List or the Honor Roll.\n",
    "#\n",
    "#   Also to practice string literals such as print(f'{first_name}')\n",
    "#\n",
    "#Note: normally I name my fariables firstName,\n",
    "#   where the first part is lowercase and each name is uppercase\n",
    "#   to better match std naming I see in assignment and resources\n",
    "#   I am chaning to the more common first_name with lowercasing\n",
    "#   and underscores.\n",
    "\n",
    "#define gpa and statement in a dictionary\n",
    "qualifications: dict[float, str] = {\n",
    "    3.5: \"has made the Dean's List.\",\n",
    "    3.25: \"has made the Honor Role.\"\n",
    "}\n",
    "\n",
    "#check student gpa to see qualifications\n",
    "def check_qualifications(last_name: str, first_name: str, gpa: float) -> None:\n",
    "    #for each float/str pair in the dictionary, iterate\n",
    "    for num, msg in qualifications.items():\n",
    "        #determine matches for Dean's and Honor Roll then return\n",
    "        if gpa >= num:\n",
    "            print(f'{first_name} {last_name} {msg}')\n",
    "            return #assume student in Dean's list is already honor roll\n",
    "    print(f\"{first_name} {last_name} did not qualify for the Dean's or Honor Roll\")\n",
    "    return #sad student\n",
    "\n",
    "#funcntion to get user data\n",
    "def get_input() -> dict:\n",
    "    #start by getting information about student\n",
    "    try:\n",
    "        last_name: str = input(\"Enter the student's last name (or 'ZZZ' to quit): \")\n",
    "        if last_name == 'ZZZ':\n",
    "            raise SystemExit() #exit program safely\n",
    "        first_name: str = input(\"Enter the student's first name: \")\n",
    "        gpa: float = float(input(\"Enter the students's GPA: \"))\n",
    "        #return as dictionary type\n",
    "        return {\"last_name\": last_name, \"first_name\": first_name, \"gpa\":gpa}\n",
    "\n",
    "    except ValueError: #throw error if input goes wrong\n",
    "        print(\"Invalid input. Try again.\")\n",
    "        return get_input() #recursion until proper input\n",
    "\n",
    "#begin the main function of the program\n",
    "def main() -> None: #keep forgetting python void is none\n",
    "    while True:\n",
    "        student_info: dict = get_input()\n",
    "        check_qualifications(student_info['last_name'], student_info['first_name'], student_info['gpa'])\n",
    "\n",
    "\n",
    "main()"
   ]
  },
  {
   "cell_type": "code",
   "execution_count": null,
   "id": "49ebb3df-d104-48f0-a42b-f4daf3608d12",
   "metadata": {},
   "outputs": [],
   "source": []
  }
 ],
 "metadata": {
  "kernelspec": {
   "display_name": "Python 3 (ipykernel)",
   "language": "python",
   "name": "python3"
  },
  "language_info": {
   "codemirror_mode": {
    "name": "ipython",
    "version": 3
   },
   "file_extension": ".py",
   "mimetype": "text/x-python",
   "name": "python",
   "nbconvert_exporter": "python",
   "pygments_lexer": "ipython3",
   "version": "3.11.7"
  }
 },
 "nbformat": 4,
 "nbformat_minor": 5
}
