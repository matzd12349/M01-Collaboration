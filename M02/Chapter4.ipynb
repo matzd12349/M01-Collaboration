{
 "cells": [
  {
   "cell_type": "code",
   "execution_count": null,
   "id": "71c0ac29-3bdf-4cc3-839d-d5b4df3a66bc",
   "metadata": {},
   "outputs": [],
   "source": [
    "#Choose a number between 1 and 10 and assign it to the variable secret.\n",
    "#Then, select another number between 1 and 10 and assign it to the variable guess.\n",
    "#Next, write the conditional tests (if, else, and elif) to print the string 'too low',\n",
    "#if guess is less than secret, 'too high' if greater than secret, \n",
    "#and 'just right' if equal to secret."
   ]
  },
  {
   "cell_type": "code",
   "execution_count": 6,
   "id": "000b6334-ba9b-42e2-b2b4-5ac586b24a3e",
   "metadata": {},
   "outputs": [
    {
     "name": "stdout",
     "output_type": "stream",
     "text": [
      "Number Generated\n"
     ]
    },
    {
     "name": "stdin",
     "output_type": "stream",
     "text": [
      "Please guess a number between 1 and 10:  5\n"
     ]
    },
    {
     "name": "stdout",
     "output_type": "stream",
     "text": [
      "too low\n",
      "Number Generated\n"
     ]
    },
    {
     "name": "stdin",
     "output_type": "stream",
     "text": [
      "Please guess a number between 1 and 10:  7\n"
     ]
    },
    {
     "name": "stdout",
     "output_type": "stream",
     "text": [
      "too high\n",
      "Number Generated\n"
     ]
    },
    {
     "name": "stdin",
     "output_type": "stream",
     "text": [
      "Please guess a number between 1 and 10:  6\n"
     ]
    },
    {
     "name": "stdout",
     "output_type": "stream",
     "text": [
      "too low\n",
      "Number Generated\n"
     ]
    },
    {
     "name": "stdin",
     "output_type": "stream",
     "text": [
      "Please guess a number between 1 and 10:  4\n"
     ]
    },
    {
     "name": "stdout",
     "output_type": "stream",
     "text": [
      "too high\n",
      "Number Generated\n"
     ]
    },
    {
     "name": "stdin",
     "output_type": "stream",
     "text": [
      "Please guess a number between 1 and 10:  7\n"
     ]
    },
    {
     "name": "stdout",
     "output_type": "stream",
     "text": [
      "too low\n",
      "Number Generated\n"
     ]
    },
    {
     "name": "stdin",
     "output_type": "stream",
     "text": [
      "Please guess a number between 1 and 10:  6\n"
     ]
    },
    {
     "name": "stdout",
     "output_type": "stream",
     "text": [
      "too high\n",
      "Number Generated\n"
     ]
    },
    {
     "name": "stdin",
     "output_type": "stream",
     "text": [
      "Please guess a number between 1 and 10:  8\n"
     ]
    },
    {
     "name": "stdout",
     "output_type": "stream",
     "text": [
      "too high\n",
      "Number Generated\n"
     ]
    },
    {
     "name": "stdin",
     "output_type": "stream",
     "text": [
      "Please guess a number between 1 and 10:  8\n"
     ]
    },
    {
     "name": "stdout",
     "output_type": "stream",
     "text": [
      "too high\n",
      "Number Generated\n"
     ]
    },
    {
     "name": "stdin",
     "output_type": "stream",
     "text": [
      "Please guess a number between 1 and 10:  8\n"
     ]
    },
    {
     "name": "stdout",
     "output_type": "stream",
     "text": [
      "too high\n",
      "Number Generated\n"
     ]
    },
    {
     "name": "stdin",
     "output_type": "stream",
     "text": [
      "Please guess a number between 1 and 10:  8\n"
     ]
    },
    {
     "name": "stdout",
     "output_type": "stream",
     "text": [
      "too high\n",
      "Number Generated\n"
     ]
    },
    {
     "name": "stdin",
     "output_type": "stream",
     "text": [
      "Please guess a number between 1 and 10:  5\n"
     ]
    },
    {
     "name": "stdout",
     "output_type": "stream",
     "text": [
      "too high\n",
      "Number Generated\n"
     ]
    },
    {
     "name": "stdin",
     "output_type": "stream",
     "text": [
      "Please guess a number between 1 and 10:  5\n"
     ]
    },
    {
     "name": "stdout",
     "output_type": "stream",
     "text": [
      "too high\n",
      "Number Generated\n"
     ]
    },
    {
     "name": "stdin",
     "output_type": "stream",
     "text": [
      "Please guess a number between 1 and 10:  5\n"
     ]
    },
    {
     "name": "stdout",
     "output_type": "stream",
     "text": [
      "too low\n",
      "Number Generated\n"
     ]
    },
    {
     "name": "stdin",
     "output_type": "stream",
     "text": [
      "Please guess a number between 1 and 10:  5\n"
     ]
    },
    {
     "name": "stdout",
     "output_type": "stream",
     "text": [
      "too low\n",
      "Number Generated\n"
     ]
    },
    {
     "name": "stdin",
     "output_type": "stream",
     "text": [
      "Please guess a number between 1 and 10:  5\n"
     ]
    },
    {
     "name": "stdout",
     "output_type": "stream",
     "text": [
      "just right\n",
      "Thanks for playing\n"
     ]
    }
   ],
   "source": [
    "import random\n",
    "\n",
    "#create a list 1-10, then choose a random position to new variable\n",
    "numList: int = [1,2,3,4,5,6,7,8,9,10]\n",
    "\n",
    "#main function\n",
    "def Main() -> None:\n",
    "    while True:\n",
    "        secret: int = RandomNumber()\n",
    "        print(\"Number Generated\")\n",
    "        guess: int = GetNumber()\n",
    "        correct: bool = CompareNumbers(guess,secret)\n",
    "        if correct == True:\n",
    "            print(\"Thanks for playing\")\n",
    "            break\n",
    "        \n",
    "\n",
    "#choose a random number between 1 and 10\n",
    "def RandomNumber() -> int:\n",
    "    choice: int = random.choice(numList)\n",
    "    return choice\n",
    "\n",
    "#get a number from the user as a guess\n",
    "def GetNumber() -> int:\n",
    "    while True:\n",
    "        #to prevent breakdown if user is dumb\n",
    "        try:\n",
    "            g: int = int(input(\"Please guess a number between 1 and 10: \"))\n",
    "            if 0 < g < 11:\n",
    "                return g\n",
    "                break\n",
    "            else:\n",
    "                raise ValueError(\"Must be an integer between 1 and 10!\")\n",
    "        # try/catch throw value error to prevent program from crashing\n",
    "        except ValueError as e:\n",
    "            print(e)\n",
    "\n",
    "#compare user guess and random number\n",
    "def CompareNumbers(user: int, comp: int) -> bool:\n",
    "    if user < comp:\n",
    "        print(\"too low\")\n",
    "        return False\n",
    "    elif user > comp:\n",
    "        print(\"too high\")\n",
    "        return False\n",
    "    else:\n",
    "        print(\"just right\")\n",
    "        return True\n",
    "\n",
    "#Call main function and start the program\n",
    "Main()"
   ]
  },
  {
   "cell_type": "code",
   "execution_count": null,
   "id": "4b29ca17-e08d-493b-97f4-5dcb829d6c74",
   "metadata": {},
   "outputs": [],
   "source": [
    "#Assign True or False to the variables small and green. \n",
    "#Write some if/else statements to print which of these matches those choices: cherry, pea, watermelon, pumpkin."
   ]
  },
  {
   "cell_type": "code",
   "execution_count": 7,
   "id": "8272bbca-043b-47e0-a1f9-8872136e02ba",
   "metadata": {},
   "outputs": [
    {
     "name": "stdin",
     "output_type": "stream",
     "text": [
      "Does 'small' apply (True/False)?  boom\n"
     ]
    },
    {
     "name": "stdout",
     "output_type": "stream",
     "text": [
      "Input must be 'True' or 'False'.\n"
     ]
    },
    {
     "name": "stdin",
     "output_type": "stream",
     "text": [
      "Does 'small' apply (True/False)?  \n"
     ]
    },
    {
     "name": "stdout",
     "output_type": "stream",
     "text": [
      "Input must be 'True' or 'False'.\n"
     ]
    },
    {
     "name": "stdin",
     "output_type": "stream",
     "text": [
      "Does 'small' apply (True/False)?  True\n",
      "Does 'green' apply (True/False)?  False\n"
     ]
    },
    {
     "name": "stdout",
     "output_type": "stream",
     "text": [
      "Your fruit is cherry.\n"
     ]
    }
   ],
   "source": [
    "#getting input on descriptor\n",
    "def GetInput(prompt: str) -> bool:\n",
    "    while True:\n",
    "        try:\n",
    "            value: str = input(prompt).strip().lower()#remove spaces before and after / convert to lowercase for comparison ease\n",
    "            if value == 'true':\n",
    "                return True\n",
    "            elif value == 'false':\n",
    "                return False\n",
    "            else:\n",
    "                raise ValueError(\"Input must be 'True' or 'False'.\") #make sure user input is correct\n",
    "        #just in case\n",
    "        except ValueError as e:\n",
    "            print(e)\n",
    "\n",
    "#boolean description variables / call GetInput function\n",
    "small: bool = GetInput(\"Does 'small' apply (True/False)? \")\n",
    "green: bool = GetInput(\"Does 'green' apply (True/False)? \")\n",
    "\n",
    "#check user input to match veg/fruit\n",
    "#!green works as a conditional , !small does not as !s is a working statement\n",
    "#using the 'not' keyword to fix the issue and make consistant\n",
    "if small and green:\n",
    "    print(\"Your vegetable is pea.\")\n",
    "elif small and not green:\n",
    "    print(\"Your fruit is cherry.\")\n",
    "elif not small and green:\n",
    "    print(\"Your fruit is watermellon.\")\n",
    "elif not small and not green:\n",
    "    print(\"Your vegetable is pumpkin.\")\n",
    "            "
   ]
  },
  {
   "cell_type": "code",
   "execution_count": null,
   "id": "26a503cf-dd75-486f-a867-745622c68919",
   "metadata": {},
   "outputs": [],
   "source": []
  }
 ],
 "metadata": {
  "kernelspec": {
   "display_name": "Python 3 (ipykernel)",
   "language": "python",
   "name": "python3"
  },
  "language_info": {
   "codemirror_mode": {
    "name": "ipython",
    "version": 3
   },
   "file_extension": ".py",
   "mimetype": "text/x-python",
   "name": "python",
   "nbconvert_exporter": "python",
   "pygments_lexer": "ipython3",
   "version": "3.11.7"
  }
 },
 "nbformat": 4,
 "nbformat_minor": 5
}
