{
 "cells": [
  {
   "cell_type": "code",
   "execution_count": null,
   "id": "e9e009b8-61d6-4495-8f1c-940a516ce2c8",
   "metadata": {},
   "outputs": [],
   "source": [
    "'''\n",
    "11.1 Create a zoo.py file with functin hours()\n",
    "use interactive interpreter to import zoo module\n",
    "'''"
   ]
  },
  {
   "cell_type": "code",
   "execution_count": 1,
   "id": "c9c25320-8d49-4923-afd3-d33581def82e",
   "metadata": {},
   "outputs": [
    {
     "name": "stdout",
     "output_type": "stream",
     "text": [
      "Open 9-5 daily\n"
     ]
    }
   ],
   "source": [
    "import zoo\n",
    "\n",
    "zoo.hours()"
   ]
  },
  {
   "cell_type": "code",
   "execution_count": 2,
   "id": "4c676f5c-2220-4c37-90a2-70279028f654",
   "metadata": {},
   "outputs": [
    {
     "name": "stdout",
     "output_type": "stream",
     "text": [
      "Open 9-5 daily\n"
     ]
    }
   ],
   "source": [
    "import zoo as menagerie\n",
    "\n",
    "menagerie.hours()"
   ]
  },
  {
   "cell_type": "code",
   "execution_count": null,
   "id": "17a00f3b-3ac6-4f0f-9d0d-07b3a6c41a24",
   "metadata": {},
   "outputs": [],
   "source": [
    "'''\n",
    "16.4 Use the sqlite3 module to create a SQLite database called books.db \n",
    "and a table called books with these fields: title (text), author (text), and year (integer).\n",
    "'''\n",
    "'''\n",
    "16.6 Select and print the title column from the book table in alphabetical order.\n",
    "'''"
   ]
  },
  {
   "cell_type": "code",
   "execution_count": 9,
   "id": "648e6f94-2365-4b04-9317-2c332bbd2ebb",
   "metadata": {},
   "outputs": [
    {
     "name": "stdout",
     "output_type": "stream",
     "text": [
      "CSV file books2.csv has been made with no issue\n",
      "[('Perdido Street Station',), ('Small Gods',), ('The Spellman Files',), ('The Weirdstone of Brisingamen',), ('Thud!',)]\n"
     ]
    },
    {
     "data": {
      "text/plain": [
       "<function Connection.close()>"
      ]
     },
     "execution_count": 9,
     "metadata": {},
     "output_type": "execute_result"
    }
   ],
   "source": [
    "import sqlite3\n",
    "import csv\n",
    "\n",
    "#Data for csv file\n",
    "books_data = [\n",
    "    [\"title\", \"author\", \"year\"],\n",
    "    [\"The Weirdstone of Brisingamen\", \"Alan Garner\", 1960],\n",
    "    [\"Perdido Street Station\", \"China Miéville\", 2000],\n",
    "    [\"Thud!\", \"Terry Pratchett\", 2005],\n",
    "    [\"The Spellman Files\", \"Lisa Lutz\", 2007],\n",
    "    [\"Small Gods\", \"Terry Pratchett\", 1992]\n",
    "]\n",
    "#specify books2 table\n",
    "filename = 'books2.csv'\n",
    "#write to file\n",
    "with open(filename, 'w', newline='') as csvfile:\n",
    "    writer = csv.writer(csvfile)\n",
    "    writer.writerows(books_data)\n",
    "\n",
    "print(f'CSV file {filename} has been made with no issue')\n",
    "\n",
    "#++++++++++++++++++++++++++++++++++++++++++++++++++++++#\n",
    "\n",
    "#connect and create cursor\n",
    "books_file = 'books.db'\n",
    "conn = sqlite3.connect('books.db')\n",
    "cursor = conn.cursor()\n",
    "\n",
    "#create a table if none exists\n",
    "#using sql commands\n",
    "cursor.execute('''\n",
    "CREATE TABLE books (\n",
    "    title TEXT,\n",
    "    author TEXT,\n",
    "    year INTEGER\n",
    ")\n",
    "''')\n",
    "conn.commit()\n",
    "\n",
    "#Read books2.csv and insert its data into a book table\n",
    "with open(filename, 'r') as file:\n",
    "    reader = csv.DictReader(file)\n",
    "    books = [(row['title'], row['author'], int(row['year'])) for row in reader]\n",
    "\n",
    "cursor.executemany('INSERT INTO books (title, author, year) VALUES (?, ?, ?)', books)\n",
    "conn.commit()\n",
    "\n",
    "#select and print the tile column from the book table ain alphabetical order\n",
    "cursor.execute('SELECT title FROM books ORDER BY title')\n",
    "titles_alpha = cursor.fetchall()\n",
    "\n",
    "print(titles_alpha)\n",
    "\n",
    "#close the sqlite connection\n",
    "conn.close"
   ]
  },
  {
   "cell_type": "code",
   "execution_count": null,
   "id": "c3bad31a-785f-4f15-a70c-88f27037e047",
   "metadata": {},
   "outputs": [],
   "source": [
    "'''\n",
    "16.8 Use the sqlalchemy module to connect to the sqlite3 database books.db \n",
    "that you just made in exercise 16.4. As in 16.6, \n",
    "select and print the title column from the book table in alphabetical order.\n",
    "'''"
   ]
  },
  {
   "cell_type": "code",
   "execution_count": 25,
   "id": "a4bed103-2080-4e8c-8037-8c4b65b61fee",
   "metadata": {},
   "outputs": [
    {
     "name": "stdout",
     "output_type": "stream",
     "text": [
      "Tiles in alphabetical order\n",
      "Perdido Street Station\n",
      "Small Gods\n",
      "The Spellman Files\n",
      "The Weirdstone of Brisingamen\n",
      "Thud!\n"
     ]
    }
   ],
   "source": [
    "import sqlalchemy as sa\n",
    "from sqlalchemy import create_engine, MetaData, Table, Column, Integer, String, select\n",
    "\n",
    "#create engine and connect to sqlite3 db\n",
    "conn = sa.create_engine('sqlite:///books.db')\n",
    "data = MetaData()\n",
    "\n",
    "#reflect the table\n",
    "books_table = Table('books', data,\n",
    "                    Column('title', String, primary_key=True),\n",
    "                    Column('author', String),\n",
    "                    Column('year', Integer))\n",
    "data.create_all(conn)\n",
    "\n",
    "#connect to database\n",
    "with conn.connect() as connection:\n",
    "    #select title column and order titles\n",
    "    start = select(books_table.c.title).order_by(books_table.c.title)\n",
    "    result = connection.execute(start)\n",
    "    titles_alchemy = result.fetchall()\n",
    "\n",
    "#display the results\n",
    "print(\"Tiles in alphabetical order\")\n",
    "for title in titles_alchemy:\n",
    "    print(title[0])\n"
   ]
  },
  {
   "cell_type": "code",
   "execution_count": null,
   "id": "62b8c1c0-bd53-41b0-b5e9-be92db56ff30",
   "metadata": {},
   "outputs": [],
   "source": []
  }
 ],
 "metadata": {
  "kernelspec": {
   "display_name": "Python 3 (ipykernel)",
   "language": "python",
   "name": "python3"
  },
  "language_info": {
   "codemirror_mode": {
    "name": "ipython",
    "version": 3
   },
   "file_extension": ".py",
   "mimetype": "text/x-python",
   "name": "python",
   "nbconvert_exporter": "python",
   "pygments_lexer": "ipython3",
   "version": "3.11.7"
  }
 },
 "nbformat": 4,
 "nbformat_minor": 5
}
