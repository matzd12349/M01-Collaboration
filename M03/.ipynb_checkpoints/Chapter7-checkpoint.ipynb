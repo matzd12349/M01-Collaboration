{
 "cells": [
  {
   "cell_type": "code",
   "execution_count": null,
   "id": "4f5a2fcf-cd82-45fb-b975-8c8405f5ffa1",
   "metadata": {},
   "outputs": [],
   "source": [
    "'''\n",
    "7.4 Make a list called things with these three strings as elements: \"mozzarella\", \"cinderella\", \"salmonella\".\n",
    "7.5 Capitalize the element in things that refers to a person and then print the list. Did it change the element in the list?\n",
    "ANS: It did not change the element in the list.\n",
    "\n",
    "'''"
   ]
  },
  {
   "cell_type": "code",
   "execution_count": 9,
   "id": "702bd009-b1fb-43b5-baa6-22f85d056941",
   "metadata": {},
   "outputs": [
    {
     "name": "stdout",
     "output_type": "stream",
     "text": [
      "mozzarella\n",
      "Cinderella\n",
      "salmonella\n"
     ]
    }
   ],
   "source": [
    "things: list[str] = ['mozzarella','cinderella','salmonella']\n",
    "\n",
    "for c in range(len(things)):\n",
    "    if things[c] == 'cinderella':\n",
    "        things[c] = things[c].capitalize()\n",
    "for c in things:\n",
    "    print(c)"
   ]
  },
  {
   "cell_type": "code",
   "execution_count": null,
   "id": "6b400f86-2fa0-4f85-8cfe-d364698563f7",
   "metadata": {},
   "outputs": [],
   "source": [
    "'''\n",
    "7.6 Make the cheesy element of things all uppercase and then print the list.\n",
    "7.7 Delete the disease element from things, collect your Nobel Prize, and print the list.\n",
    "'''"
   ]
  },
  {
   "cell_type": "code",
   "execution_count": 14,
   "id": "42b2440c-cfe4-4203-8a0c-7c8a16dd1d16",
   "metadata": {},
   "outputs": [
    {
     "name": "stdout",
     "output_type": "stream",
     "text": [
      "['mozzarella', 'Cinderella', 'salmonella']\n",
      "------\n",
      "['Mozzarella', 'Cinderella', 'salmonella']\n",
      "------\n",
      "You got your Nobel Prize\n",
      "['Mozzarella', 'Cinderella']\n"
     ]
    }
   ],
   "source": [
    "things: list[str] = ['mozzarella','cinderella','salmonella']\n",
    "\n",
    "#7.4-5\n",
    "for c in range(len(things)):\n",
    "    if things[c] == 'cinderella':\n",
    "        things[c] = things[c].capitalize()\n",
    "print(things)\n",
    "\n",
    "print('------')\n",
    "\n",
    "#7.6\n",
    "for c in range(len(things)):\n",
    "    if things[c] == 'mozzarella':\n",
    "        things[c] = things[c].capitalize()\n",
    "print(things)\n",
    "\n",
    "print('------')\n",
    "\n",
    "#7.7\n",
    "del things[2]\n",
    "print('You got your Nobel Prize')\n",
    "print(things)"
   ]
  },
  {
   "cell_type": "code",
   "execution_count": null,
   "id": "5888101b-82c8-47d0-b926-9d44dce827b6",
   "metadata": {},
   "outputs": [],
   "source": []
  }
 ],
 "metadata": {
  "kernelspec": {
   "display_name": "Python 3 (ipykernel)",
   "language": "python",
   "name": "python3"
  },
  "language_info": {
   "codemirror_mode": {
    "name": "ipython",
    "version": 3
   },
   "file_extension": ".py",
   "mimetype": "text/x-python",
   "name": "python",
   "nbconvert_exporter": "python",
   "pygments_lexer": "ipython3",
   "version": "3.11.7"
  }
 },
 "nbformat": 4,
 "nbformat_minor": 5
}
