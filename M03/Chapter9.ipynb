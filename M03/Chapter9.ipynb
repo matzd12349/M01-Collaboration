{
 "cells": [
  {
   "cell_type": "code",
   "execution_count": null,
   "id": "5c351bd7-7186-4aff-8a0e-51ebe97bf585",
   "metadata": {},
   "outputs": [],
   "source": [
    "'''\n",
    "9.1 Define a function called good() that returns the following list: ['Harry', 'Ron', 'Hermione'].\n",
    "'''"
   ]
  },
  {
   "cell_type": "code",
   "execution_count": 1,
   "id": "0d9c3d02-6ebe-418b-b90d-b0ed58ed262f",
   "metadata": {},
   "outputs": [
    {
     "name": "stdout",
     "output_type": "stream",
     "text": [
      "['Harry', 'Ron', 'Hermione']\n"
     ]
    }
   ],
   "source": [
    "#A function to return a list of the legendary trio\n",
    "def good() -> list:\n",
    "    trio: list[str] = ['Harry', 'Ron', 'Hermione']\n",
    "    return trio\n",
    "\n",
    "print(good())"
   ]
  },
  {
   "cell_type": "code",
   "execution_count": null,
   "id": "0218c824-2ce8-40a6-89e8-a6c3430c0115",
   "metadata": {},
   "outputs": [],
   "source": [
    "'''\n",
    "9.2 Define a generator function called get_odds() that returns the odd numbers from range(10).\n",
    "Use a for loop to find and print the third value returned.\n",
    "'''"
   ]
  },
  {
   "cell_type": "code",
   "execution_count": 5,
   "id": "a5f368b0-a6a5-4628-8477-9fe658520e13",
   "metadata": {},
   "outputs": [
    {
     "name": "stdout",
     "output_type": "stream",
     "text": [
      "[1, 3, 5, 7, 9]\n",
      "5\n"
     ]
    }
   ],
   "source": [
    "#function to generate aodd numbers from range(10)\n",
    "def get_odds() -> list[int]:\n",
    "    odd_numbers: list[int] = []\n",
    "    for i in range(10):\n",
    "        if i%2 != 0:\n",
    "            odd_numbers.append(i)\n",
    "    return odd_numbers\n",
    "\n",
    "#call get_odds to get odd numbers\n",
    "num_list: list[int] = get_odds()\n",
    "print(num_list)\n",
    "\n",
    "#itterate and get third element, i = index | c = value\n",
    "for i,c in enumerate(num_list):\n",
    "    if i == 2:\n",
    "        print(c)"
   ]
  },
  {
   "cell_type": "code",
   "execution_count": null,
   "id": "afc67f2a-ceb2-4f1e-a8b1-99e6e608da29",
   "metadata": {},
   "outputs": [],
   "source": []
  }
 ],
 "metadata": {
  "kernelspec": {
   "display_name": "Python 3 (ipykernel)",
   "language": "python",
   "name": "python3"
  },
  "language_info": {
   "codemirror_mode": {
    "name": "ipython",
    "version": 3
   },
   "file_extension": ".py",
   "mimetype": "text/x-python",
   "name": "python",
   "nbconvert_exporter": "python",
   "pygments_lexer": "ipython3",
   "version": "3.11.7"
  }
 },
 "nbformat": 4,
 "nbformat_minor": 5
}
