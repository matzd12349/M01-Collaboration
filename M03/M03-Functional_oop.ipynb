{
 "cells": [
  {
   "cell_type": "code",
   "execution_count": null,
   "id": "8d25ba74-690e-48d3-83bb-6aa10ab08a1a",
   "metadata": {},
   "outputs": [],
   "source": [
    "'Given an array of size N containing only 0s, 1s, and 2s; sort the array in ascending order.'"
   ]
  },
  {
   "cell_type": "code",
   "execution_count": 11,
   "id": "7e42e178-66e9-4e33-a29b-dbbe11f49e8a",
   "metadata": {},
   "outputs": [],
   "source": [
    "#User function Template for python3\n",
    "\n",
    "class Solution:\n",
    "    def sort012(self,arr,n):\n",
    "        # pointer 1 tracks 0's pointer 2 tracks 2's i tracks position in array\n",
    "        ptr1: int = 0\n",
    "        ptr2: int = n-1\n",
    "        i: int = 0\n",
    "        while i <= ptr2:\n",
    "            if arr[i] == 0:\n",
    "                arr[i], arr[ptr1] = arr[ptr1], arr[i]\n",
    "                i += 1\n",
    "                ptr1 += 1\n",
    "            elif arr[i] == 2:\n",
    "                arr[i],arr[ptr2] = arr[ptr2],arr[i]\n",
    "                ptr2 -= 1\n",
    "            else:\n",
    "                i +=1\n",
    "            \n"
   ]
  },
  {
   "cell_type": "code",
   "execution_count": 12,
   "id": "862ee1d9-43e1-4b60-a8f2-9599ec7c65d5",
   "metadata": {},
   "outputs": [
    {
     "name": "stdout",
     "output_type": "stream",
     "text": [
      "0\n",
      "0\n",
      "0\n",
      "1\n",
      "1\n",
      "1\n",
      "2\n",
      "2\n",
      "2\n",
      "done\n"
     ]
    }
   ],
   "source": [
    "#create array call solution.sort\n",
    "num_list = [2,1,0,2,1,0,0,2,1]\n",
    "n = len(num_list)\n",
    "ob = Solution()\n",
    "ob.sort012(num_list,n)\n",
    "for i in num_list:\n",
    "    print(i)\n",
    "print('done')"
   ]
  },
  {
   "cell_type": "code",
   "execution_count": null,
   "id": "04cf63e1-c63c-4dda-8348-11ba751ef765",
   "metadata": {},
   "outputs": [],
   "source": [
    "'Given a sorted array of size N and an integer K, find the position(0-based indexing) at which K is present in the array using binary search.'"
   ]
  },
  {
   "cell_type": "code",
   "execution_count": 16,
   "id": "1955df88-b6db-4267-8c8d-4d96da1403a6",
   "metadata": {},
   "outputs": [
    {
     "name": "stdout",
     "output_type": "stream",
     "text": [
      "4  is in index  3\n"
     ]
    }
   ],
   "source": [
    "#User function template for Python\n",
    "\n",
    "class Solution2:\t\n",
    "\tdef binarysearch(self, arr, n, k):\n",
    "\t\t# code here\n",
    "\t\t#i for index , c for value\n",
    "\t\tfor i,c in enumerate(arr):\n",
    "\t\t    if c == k:\n",
    "\t\t        return i\n",
    "\t\treturn -1\n",
    "\n",
    "n = 5\n",
    "k = 4\n",
    "num_list = [1,2,3,4,5]\n",
    "ob = Solution2()\n",
    "i = ob.binarysearch(num_list,n,k)\n",
    "if i == -1:\n",
    "    print('not in list')\n",
    "else:\n",
    "    print(k, ' is in index ', i)"
   ]
  },
  {
   "cell_type": "code",
   "execution_count": null,
   "id": "916e63a5-9562-49c0-8382-489ea2a50660",
   "metadata": {},
   "outputs": [],
   "source": []
  }
 ],
 "metadata": {
  "kernelspec": {
   "display_name": "Python 3 (ipykernel)",
   "language": "python",
   "name": "python3"
  },
  "language_info": {
   "codemirror_mode": {
    "name": "ipython",
    "version": 3
   },
   "file_extension": ".py",
   "mimetype": "text/x-python",
   "name": "python",
   "nbconvert_exporter": "python",
   "pygments_lexer": "ipython3",
   "version": "3.11.7"
  }
 },
 "nbformat": 4,
 "nbformat_minor": 5
}
