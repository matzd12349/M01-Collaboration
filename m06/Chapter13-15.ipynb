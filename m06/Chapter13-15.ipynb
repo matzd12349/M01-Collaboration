{
 "cells": [
  {
   "cell_type": "code",
   "execution_count": 2,
   "id": "4dab0532-87de-4487-85ac-2569b4cce297",
   "metadata": {},
   "outputs": [
    {
     "name": "stdout",
     "output_type": "stream",
     "text": [
      "13.1 Current date written to file: 2024-07-13\n",
      "13.2 Date read from file: 2024-07-13\n",
      "13.3 Parsed date: 2024-07-13\n"
     ]
    }
   ],
   "source": [
    "# 13.1 Write the current date as a string to the text file today.txt.\n",
    "from datetime import date\n",
    "\n",
    "# Get the current date\n",
    "current_date = date.today()\n",
    "\n",
    "# Write the current date to the file\n",
    "with open('today.txt', 'w') as file:\n",
    "    file.write(current_date.isoformat())\n",
    "\n",
    "# 13.2 Read the text file today.txt into the string today_string.\n",
    "with open('today.txt', 'r') as file:\n",
    "    today_string = file.read()\n",
    "\n",
    "# 13.3 Parse the date from today_string.\n",
    "parsed_date = date.fromisoformat(today_string)\n",
    "\n",
    "# Outputs for verification\n",
    "print(\"13.1 Current date written to file:\", current_date)\n",
    "print(\"13.2 Date read from file:\", today_string)\n",
    "print(\"13.3 Parsed date:\", parsed_date)"
   ]
  },
  {
   "cell_type": "code",
   "execution_count": 1,
   "id": "803ef2d9-33b0-48b9-b4de-5ecbf03f5408",
   "metadata": {},
   "outputs": [
    {
     "name": "stdout",
     "output_type": "stream",
     "text": [
      "Process ID: 36764, Time: 2024-07-13 20:38:15.971279\n",
      "Process ID: 36765, Time: 2024-07-13 20:38:16.035437\n",
      "Process ID: 36766, Time: 2024-07-13 20:38:16.318242\n"
     ]
    }
   ],
   "source": [
    "import multiprocessing\n",
    "import time\n",
    "import random\n",
    "from datetime import datetime\n",
    "\n",
    "#Creating a funciton in order to 'sleep' for a random number between 0 and 1 secconds\n",
    "def process_function() -> None:\n",
    "    wait_time = random.uniform(0, 1)\n",
    "    time.sleep(wait_time)\n",
    "    current_time = datetime.now().strftime(\"%Y-%m-%d %H:%M:%S.%f\")#time format year/month/day hours/minutes/seconds\n",
    "    print(f\"Process ID: {multiprocessing.current_process().pid}, Time: {current_time}\")\n",
    "\n",
    "if __name__ == \"__main__\":\n",
    "    #Array for created processes\n",
    "    processes = []\n",
    "\n",
    "    #Create process for tracking purposes and Debug\n",
    "    for count in range(3):\n",
    "        process = multiprocessing.Process(target=process_function)\n",
    "        processes.append(process)\n",
    "        process.start()\n",
    "\n",
    "    #For each process, main will wait for each one to get done\n",
    "    for process in processes:\n",
    "        process.join()"
   ]
  },
  {
   "cell_type": "code",
   "execution_count": null,
   "id": "6f6845c2-3170-40c9-9604-fa964133245e",
   "metadata": {},
   "outputs": [],
   "source": []
  }
 ],
 "metadata": {
  "kernelspec": {
   "display_name": "Python 3 (ipykernel)",
   "language": "python",
   "name": "python3"
  },
  "language_info": {
   "codemirror_mode": {
    "name": "ipython",
    "version": 3
   },
   "file_extension": ".py",
   "mimetype": "text/x-python",
   "name": "python",
   "nbconvert_exporter": "python",
   "pygments_lexer": "ipython3",
   "version": "3.11.7"
  }
 },
 "nbformat": 4,
 "nbformat_minor": 5
}
