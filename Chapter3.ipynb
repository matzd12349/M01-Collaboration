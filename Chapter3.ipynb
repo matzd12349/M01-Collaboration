{
 "cells": [
  {
   "cell_type": "code",
   "execution_count": 9,
   "id": "424d9b08-889e-44be-827e-c1e09046c980",
   "metadata": {},
   "outputs": [
    {
     "name": "stdout",
     "output_type": "stream",
     "text": [
      "Please enter number of hours:  1\n",
      "Please enter number of days:  1\n"
     ]
    },
    {
     "name": "stdout",
     "output_type": "stream",
     "text": [
      "The number of seconds in  1  hour(s) is  3600\n",
      "The number of seconds in  1  day(s) is  86400\n",
      "24.0\n",
      "24\n",
      "equal:  True\n"
     ]
    }
   ],
   "source": [
    "while True:\n",
    "    hours = int(input(\"Please enter number of hours: \"))\n",
    "    if int(hours):\n",
    "        break\n",
    "while True:\n",
    "    days = int(input(\"Please enter number of days: \"))\n",
    "    if int(days):\n",
    "        break\n",
    "\n",
    "seconds_per_hour: int = hours*60*60\n",
    "seconds_per_day: int = seconds_per_hour*24*days\n",
    "\n",
    "print(\"The number of seconds in \", hours, \" hour(s) is \", seconds_per_hour)\n",
    "print(\"The number of seconds in \", days, \" day(s) is \", seconds_per_day)\n",
    "\n",
    "#division\n",
    "print(seconds_per_day/seconds_per_hour)\n",
    "print(seconds_per_day//seconds_per_hour)\n",
    "\n",
    "#testing comparison\n",
    "print(\"equal: \", (seconds_per_day/seconds_per_hour) == (seconds_per_day//seconds_per_hour))\n",
    "\n",
    "#Output results\n",
    "\n",
    "#Please enter number of hours:  1\n",
    "#Please enter number of days:  1\n",
    "#\n",
    "#The number of seconds in  1  hour(s) is  3600\n",
    "#The number of seconds in  1  day(s) is  86400\n",
    "#24.0\n",
    "#24\n",
    "#equal:  True\n",
    "\n",
    "#The two munbers agree from the previous question.\n",
    "\n"
   ]
  },
  {
   "cell_type": "code",
   "execution_count": null,
   "id": "0136612f-ca3c-423a-a456-7a322eab3b6d",
   "metadata": {},
   "outputs": [],
   "source": []
  }
 ],
 "metadata": {
  "kernelspec": {
   "display_name": "Python 3 (ipykernel)",
   "language": "python",
   "name": "python3"
  },
  "language_info": {
   "codemirror_mode": {
    "name": "ipython",
    "version": 3
   },
   "file_extension": ".py",
   "mimetype": "text/x-python",
   "name": "python",
   "nbconvert_exporter": "python",
   "pygments_lexer": "ipython3",
   "version": "3.11.7"
  }
 },
 "nbformat": 4,
 "nbformat_minor": 5
}
